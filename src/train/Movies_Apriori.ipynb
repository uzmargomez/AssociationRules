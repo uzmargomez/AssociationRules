{
 "cells": [
  {
   "cell_type": "markdown",
   "metadata": {},
   "source": [
    "El soporte se refiere a la popularidad predeterminada de un artículo y se puede calcular encontrando el número de transacciones que contienen un artículo en particular dividido por el número total de transacciones. "
   ]
  },
  {
   "cell_type": "markdown",
   "metadata": {},
   "source": [
    "La confianza se refiere a la probabilidad de que un artículo B también se compre si se compra el artículo A. Se puede calcular encontrando el número de transacciones donde A y B se compran juntas, dividido por el número total de transacciones donde se compra A\n"
   ]
  },
  {
   "cell_type": "markdown",
   "metadata": {},
   "source": [
    "Lift(A -> B)se refiere al aumento en la relación de venta de B cuando se vende A. La elevación (A -> B) se puede calcular dividiendo Confidence(A -> B)dividida por Support(B)"
   ]
  },
  {
   "cell_type": "markdown",
   "metadata": {},
   "source": [
    "Una valor de lift de más de 1 significa que los productos A y B tienen más probabilidades de comprarse juntos. Finalmente, la elevación de menos de 1 se refiere al caso en el que es poco probable que dos productos se compren juntos."
   ]
  },
  {
   "cell_type": "markdown",
   "metadata": {},
   "source": [
    "un valor mínimo de apoyo y confianza. Esto significa que solo estamos interesados ​​en encontrar reglas para los elementos que tienen cierta existencia predeterminada (por ejemplo, soporte) y tienen un valor mínimo para la ocurrencia simultánea con otros elementos (por ejemplo, confianza)."
   ]
  },
  {
   "cell_type": "code",
   "execution_count": null,
   "metadata": {},
   "outputs": [],
   "source": [
    "pip install apyori"
   ]
  },
  {
   "cell_type": "code",
   "execution_count": 102,
   "metadata": {},
   "outputs": [],
   "source": [
    "import numpy as np\n",
    "#import matplotlib.pyplot as plt\n",
    "import pandas as pd\n",
    "from apyori import apriori"
   ]
  },
  {
   "cell_type": "code",
   "execution_count": 103,
   "metadata": {},
   "outputs": [],
   "source": [
    "df_movies = pd.read_csv('movie_dataset.csv' , header=None)\n",
    "#list_movies = df_movies.values.tolist()"
   ]
  },
  {
   "cell_type": "code",
   "execution_count": 104,
   "metadata": {},
   "outputs": [],
   "source": [
    "df_movies.fillna(0, inplace = True)"
   ]
  },
  {
   "cell_type": "code",
   "execution_count": 105,
   "metadata": {},
   "outputs": [],
   "source": [
    "list_100 = list_movies[0:100]"
   ]
  },
  {
   "cell_type": "code",
   "execution_count": 106,
   "metadata": {},
   "outputs": [],
   "source": [
    "#list_100 = [x for x in list_100 if x!= 0]"
   ]
  },
  {
   "cell_type": "code",
   "execution_count": 107,
   "metadata": {},
   "outputs": [
    {
     "data": {
      "text/plain": [
       "['Mad Max', 0, 0, 0, 0, 0, 0, 0, 0, 0, 0, 0, 0, 0, 0, 0, 0, 0, 0, 0]"
      ]
     },
     "execution_count": 107,
     "metadata": {},
     "output_type": "execute_result"
    }
   ],
   "source": [
    "list_movies = df_movies.values.tolist()\n",
    "list_movies[5]"
   ]
  },
  {
   "cell_type": "code",
   "execution_count": 108,
   "metadata": {},
   "outputs": [],
   "source": [
    "new = []\n",
    "temp = []\n",
    "\n",
    "for i in list_movies:\n",
    "    for j in i:\n",
    "        if j !=0:\n",
    "            temp.append(j)\n",
    "    new.append(temp)\n",
    "    temp = []\n",
    "        "
   ]
  },
  {
   "cell_type": "code",
   "execution_count": 109,
   "metadata": {},
   "outputs": [
    {
     "data": {
      "text/plain": [
       "['Mad Max']"
      ]
     },
     "execution_count": 109,
     "metadata": {},
     "output_type": "execute_result"
    }
   ],
   "source": [
    "new[5]"
   ]
  },
  {
   "cell_type": "code",
   "execution_count": 110,
   "metadata": {},
   "outputs": [
    {
     "data": {
      "text/plain": [
       "['Mad Max']"
      ]
     },
     "execution_count": 110,
     "metadata": {},
     "output_type": "execute_result"
    }
   ],
   "source": [
    "new[5]"
   ]
  },
  {
   "cell_type": "code",
   "execution_count": 111,
   "metadata": {},
   "outputs": [],
   "source": [
    "#ulist = df.column1.unique() #create a list from a column with Pandas which \n",
    "#for value in list_100:\n",
    "#    value = str(value)   #here 'nan' is converted to a string to compare with if\n",
    "#    if value != np.nan:\n",
    "#        print(value)"
   ]
  },
  {
   "cell_type": "code",
   "execution_count": 112,
   "metadata": {},
   "outputs": [],
   "source": [
    "#list_100"
   ]
  },
  {
   "cell_type": "code",
   "execution_count": 113,
   "metadata": {},
   "outputs": [],
   "source": [
    "records = []\n",
    "for i in range(0, 7501):\n",
    "    records.append([str(df_movies.values[i,j]) for j in range(0, 20)])"
   ]
  },
  {
   "cell_type": "code",
   "execution_count": 114,
   "metadata": {},
   "outputs": [
    {
     "data": {
      "text/plain": [
       "False"
      ]
     },
     "execution_count": 114,
     "metadata": {},
     "output_type": "execute_result"
    }
   ],
   "source": [
    "records == list_movies"
   ]
  },
  {
   "cell_type": "code",
   "execution_count": 115,
   "metadata": {},
   "outputs": [],
   "source": [
    "#records"
   ]
  },
  {
   "cell_type": "code",
   "execution_count": 116,
   "metadata": {},
   "outputs": [],
   "source": [
    "#list_movies"
   ]
  },
  {
   "cell_type": "code",
   "execution_count": 117,
   "metadata": {},
   "outputs": [],
   "source": [
    "#clean_list =  [x for x in list_movies if ~np.isnan(x)]"
   ]
  },
  {
   "cell_type": "code",
   "execution_count": 118,
   "metadata": {},
   "outputs": [],
   "source": [
    "#list_movies=np.asarray(list_movies)"
   ]
  },
  {
   "cell_type": "code",
   "execution_count": 119,
   "metadata": {},
   "outputs": [],
   "source": [
    "#list_movies = list_movies[list_movies!='nan']"
   ]
  },
  {
   "cell_type": "code",
   "execution_count": 120,
   "metadata": {},
   "outputs": [],
   "source": [
    "#list_movies = list_movies.tolist()"
   ]
  },
  {
   "cell_type": "markdown",
   "metadata": {},
   "source": [
    "La aprioriclase requiere algunos valores de parámetros para funcionar.\n",
    "El primer parámetro es la lista de la lista de la que desea extraer las reglas. \n",
    "\n",
    "El segundo parámetro es el min_supportparámetro. \n",
    "\n",
    "Este parámetro se utiliza para seleccionar los elementos con valores de soporte superiores al valor especificado por el parámetro. \n",
    "\n",
    "El min_confidenceparámetro filtra las reglas que tienen una confianza mayor que el umbral de confianza especificado por el parámetro. \n",
    "\n",
    "\n",
    "El min_liftparámetro especifica el valor de elevación mínimo para las reglas enumeradas brevemente.\n",
    "\n",
    "El min_lengthparámetro especifica el número mínimo de elementos que desea en sus reglas."
   ]
  },
  {
   "cell_type": "code",
   "execution_count": 121,
   "metadata": {},
   "outputs": [
    {
     "data": {
      "text/plain": [
       "7501"
      ]
     },
     "execution_count": 121,
     "metadata": {},
     "output_type": "execute_result"
    }
   ],
   "source": [
    "len(list_movies)"
   ]
  },
  {
   "cell_type": "code",
   "execution_count": 122,
   "metadata": {},
   "outputs": [
    {
     "data": {
      "text/plain": [
       "7501"
      ]
     },
     "execution_count": 122,
     "metadata": {},
     "output_type": "execute_result"
    }
   ],
   "source": [
    "len(records)"
   ]
  },
  {
   "cell_type": "code",
   "execution_count": 130,
   "metadata": {},
   "outputs": [],
   "source": [
    "valores_apriori = apriori(new, min_support=0.0045, min_confidence=0.2, min_lift=3, min_length=2)\n",
    "\n",
    "valores_apriori = list(valores_apriori)"
   ]
  },
  {
   "cell_type": "markdown",
   "metadata": {},
   "source": [
    "Supongamos que queremos reglas solo para aquellos peliculas que se rentan al menos 5 veces al día, o 7 x 5 = 35 veces en una semana, ya que nuestro conjunto de datos es por un período de una semana. El soporte para esas pelicualas se puede calcular como 35/7500 = 0.0045. \n",
    "\n",
    "La confianza mínima para las reglas es del 20% o 0.2. Del mismo modo, especificamos el valor de elevación como 3 y finalmente min_lengthes 2, ya que queremos al menos dos productos en nuestras reglas. La mayoría de estos valores se eligen de forma arbitraria, por lo que puede jugar con estos valores y ver qué diferencia hay en las reglas que se vuelven a eliminar."
   ]
  },
  {
   "cell_type": "code",
   "execution_count": 131,
   "metadata": {},
   "outputs": [
    {
     "data": {
      "text/plain": [
       "24"
      ]
     },
     "execution_count": 131,
     "metadata": {},
     "output_type": "execute_result"
    }
   ],
   "source": [
    "len(valores_apriori)"
   ]
  },
  {
   "cell_type": "code",
   "execution_count": 132,
   "metadata": {},
   "outputs": [],
   "source": [
    "#for i in valores_apriori:\n",
    "#    print(i)\n",
    "#    print('\\n')"
   ]
  },
  {
   "cell_type": "code",
   "execution_count": 133,
   "metadata": {},
   "outputs": [
    {
     "data": {
      "text/plain": [
       "apyori.RelationRecord"
      ]
     },
     "execution_count": 133,
     "metadata": {},
     "output_type": "execute_result"
    }
   ],
   "source": [
    "type(valores_apriori[0])"
   ]
  },
  {
   "cell_type": "code",
   "execution_count": 134,
   "metadata": {},
   "outputs": [
    {
     "data": {
      "text/plain": [
       "[RelationRecord(items=frozenset({'London Has Fallen', 'Captain America'}), support=0.004532728969470737, ordered_statistics=[OrderedStatistic(items_base=frozenset({'London Has Fallen'}), items_add=frozenset({'Captain America'}), confidence=0.29059829059829057, lift=4.84395061728395)]),\n",
       " RelationRecord(items=frozenset({'Green Lantern', 'Red Sparrow'}), support=0.005732568990801226, ordered_statistics=[OrderedStatistic(items_base=frozenset({'Red Sparrow'}), items_add=frozenset({'Green Lantern'}), confidence=0.3006993006993007, lift=3.790832696715049)]),\n",
       " RelationRecord(items=frozenset({'Green Lantern', 'Star Wars'}), support=0.005865884548726837, ordered_statistics=[OrderedStatistic(items_base=frozenset({'Star Wars'}), items_add=frozenset({'Green Lantern'}), confidence=0.3728813559322034, lift=4.700811850163794)]),\n",
       " RelationRecord(items=frozenset({'Jumanji', 'Kung Fu Panda'}), support=0.015997866951073192, ordered_statistics=[OrderedStatistic(items_base=frozenset({'Kung Fu Panda'}), items_add=frozenset({'Jumanji'}), confidence=0.3234501347708895, lift=3.2919938411349285)]),\n",
       " RelationRecord(items=frozenset({'Jumanji', 'Wonder Woman'}), support=0.005332622317024397, ordered_statistics=[OrderedStatistic(items_base=frozenset({'Wonder Woman'}), items_add=frozenset({'Jumanji'}), confidence=0.3773584905660377, lift=3.840659481324083)]),\n",
       " RelationRecord(items=frozenset({'The Spy Who Dumped Me', 'Spiderman 3'}), support=0.007998933475536596, ordered_statistics=[OrderedStatistic(items_base=frozenset({'The Spy Who Dumped Me'}), items_add=frozenset({'Spiderman 3'}), confidence=0.2714932126696833, lift=4.122410097642296)]),\n",
       " RelationRecord(items=frozenset({'Star Wars', 'The Revenant'}), support=0.005065991201173177, ordered_statistics=[OrderedStatistic(items_base=frozenset({'Star Wars'}), items_add=frozenset({'The Revenant'}), confidence=0.3220338983050847, lift=4.506672147735896)]),\n",
       " RelationRecord(items=frozenset({'Coco', 'Intern', 'The Revenant'}), support=0.005332622317024397, ordered_statistics=[OrderedStatistic(items_base=frozenset({'Coco', 'Intern'}), items_add=frozenset({'The Revenant'}), confidence=0.23255813953488375, lift=3.2545123221103784), OrderedStatistic(items_base=frozenset({'Coco', 'The Revenant'}), items_add=frozenset({'Intern'}), confidence=0.29629629629629634, lift=3.1084175084175087)]),\n",
       " RelationRecord(items=frozenset({'Jumanji', 'Tomb Rider', 'Fantastic Beast'}), support=0.004799360085321957, ordered_statistics=[OrderedStatistic(items_base=frozenset({'Jumanji', 'Fantastic Beast'}), items_add=frozenset({'Tomb Rider'}), confidence=0.5714285714285714, lift=3.2819951870487856), OrderedStatistic(items_base=frozenset({'Tomb Rider', 'Fantastic Beast'}), items_add=frozenset({'Jumanji'}), confidence=0.3025210084033613, lift=3.0789824749438446)]),\n",
       " RelationRecord(items=frozenset({'Intern', 'Tomb Rider', 'Jumanji'}), support=0.008665511265164644, ordered_statistics=[OrderedStatistic(items_base=frozenset({'Intern', 'Tomb Rider'}), items_add=frozenset({'Jumanji'}), confidence=0.31100478468899523, lift=3.165328208890303)]),\n",
       " RelationRecord(items=frozenset({'Intern', 'Spiderman 3', 'Moana'}), support=0.004799360085321957, ordered_statistics=[OrderedStatistic(items_base=frozenset({'Intern', 'Moana'}), items_add=frozenset({'Spiderman 3'}), confidence=0.20338983050847456, lift=3.088314005352364), OrderedStatistic(items_base=frozenset({'Intern', 'Spiderman 3'}), items_add=frozenset({'Moana'}), confidence=0.4235294117647058, lift=3.2684095860566447)]),\n",
       " RelationRecord(items=frozenset({'Intern', 'Ninja Turtles', 'The Revenant'}), support=0.007199040127982935, ordered_statistics=[OrderedStatistic(items_base=frozenset({'Ninja Turtles', 'The Revenant'}), items_add=frozenset({'Intern'}), confidence=0.30508474576271183, lift=3.200616332819722)]),\n",
       " RelationRecord(items=frozenset({'Intern', 'Tomb Rider', 'Spiderman 3'}), support=0.005732568990801226, ordered_statistics=[OrderedStatistic(items_base=frozenset({'Intern', 'Tomb Rider'}), items_add=frozenset({'Spiderman 3'}), confidence=0.20574162679425836, lift=3.1240241752707125)]),\n",
       " RelationRecord(items=frozenset({'Intern', 'Tomb Rider', 'The Revenant'}), support=0.005999200106652446, ordered_statistics=[OrderedStatistic(items_base=frozenset({'Intern', 'Tomb Rider'}), items_add=frozenset({'The Revenant'}), confidence=0.21531100478468898, lift=3.0131489680782684)]),\n",
       " RelationRecord(items=frozenset({'Intern', 'Tomb Rider', 'World War Z'}), support=0.006665777896280496, ordered_statistics=[OrderedStatistic(items_base=frozenset({'Intern', 'Tomb Rider'}), items_add=frozenset({'World War Z'}), confidence=0.23923444976076558, lift=3.4980460188216425), OrderedStatistic(items_base=frozenset({'Tomb Rider', 'World War Z'}), items_add=frozenset({'Intern'}), confidence=0.3184713375796179, lift=3.341053850607991)]),\n",
       " RelationRecord(items=frozenset({'Jumanji', 'Tomb Rider', 'Iron Man'}), support=0.005332622317024397, ordered_statistics=[OrderedStatistic(items_base=frozenset({'Tomb Rider', 'Iron Man'}), items_add=frozenset({'Jumanji'}), confidence=0.3225806451612903, lift=3.283144395325426)]),\n",
       " RelationRecord(items=frozenset({'Jumanji', 'Kung Fu Panda', 'Ninja Turtles'}), support=0.006665777896280496, ordered_statistics=[OrderedStatistic(items_base=frozenset({'Kung Fu Panda', 'Ninja Turtles'}), items_add=frozenset({'Jumanji'}), confidence=0.39062500000000006, lift=3.975682666214383)]),\n",
       " RelationRecord(items=frozenset({'Jumanji', 'Kung Fu Panda', 'Tomb Rider'}), support=0.006399146780429276, ordered_statistics=[OrderedStatistic(items_base=frozenset({'Kung Fu Panda', 'Tomb Rider'}), items_add=frozenset({'Jumanji'}), confidence=0.3934426229508197, lift=4.004359721511667)]),\n",
       " RelationRecord(items=frozenset({'Jumanji', 'Spiderman 3', 'Moana'}), support=0.004932675643247567, ordered_statistics=[OrderedStatistic(items_base=frozenset({'Jumanji', 'Moana'}), items_add=frozenset({'Spiderman 3'}), confidence=0.22424242424242427, lift=3.40494417862839)]),\n",
       " RelationRecord(items=frozenset({'Jumanji', 'Tomb Rider', 'The Revenant'}), support=0.005999200106652446, ordered_statistics=[OrderedStatistic(items_base=frozenset({'Jumanji', 'The Revenant'}), items_add=frozenset({'Tomb Rider'}), confidence=0.5232558139534884, lift=3.005315360233627)]),\n",
       " RelationRecord(items=frozenset({'Spiderman 3', 'Tomb Rider', 'Moana'}), support=0.007199040127982935, ordered_statistics=[OrderedStatistic(items_base=frozenset({'Tomb Rider', 'Moana'}), items_add=frozenset({'Spiderman 3'}), confidence=0.20300751879699247, lift=3.0825089038385434)]),\n",
       " RelationRecord(items=frozenset({'Thor', 'Ninja Turtles', 'Spiderman 3'}), support=0.005199306759098787, ordered_statistics=[OrderedStatistic(items_base=frozenset({'Ninja Turtles', 'Thor'}), items_add=frozenset({'Spiderman 3'}), confidence=0.22543352601156072, lift=3.4230301186492245)]),\n",
       " RelationRecord(items=frozenset({'Tomb Rider', 'Spotlight', 'Spiderman 3'}), support=0.005065991201173177, ordered_statistics=[OrderedStatistic(items_base=frozenset({'Tomb Rider', 'Spotlight'}), items_add=frozenset({'Spiderman 3'}), confidence=0.20105820105820105, lift=3.0529100529100526)]),\n",
       " RelationRecord(items=frozenset({'Intern', 'Tomb Rider', 'Ninja Turtles', 'Moana'}), support=0.004532728969470737, ordered_statistics=[OrderedStatistic(items_base=frozenset({'Tomb Rider', 'Ninja Turtles', 'Moana'}), items_add=frozenset({'Intern'}), confidence=0.28813559322033894, lift=3.0228043143297376)])]"
      ]
     },
     "execution_count": 134,
     "metadata": {},
     "output_type": "execute_result"
    }
   ],
   "source": [
    "valores_apriori"
   ]
  },
  {
   "cell_type": "code",
   "execution_count": 135,
   "metadata": {},
   "outputs": [
    {
     "data": {
      "text/plain": [
       "[['London Has Fallen', 'Captain America'],\n",
       " ['Green Lantern', 'Red Sparrow'],\n",
       " ['Green Lantern', 'Star Wars'],\n",
       " ['Jumanji', 'Kung Fu Panda'],\n",
       " ['Jumanji', 'Wonder Woman'],\n",
       " ['The Spy Who Dumped Me', 'Spiderman 3'],\n",
       " ['Star Wars', 'The Revenant'],\n",
       " ['Coco', 'Intern', 'The Revenant'],\n",
       " ['Jumanji', 'Tomb Rider', 'Fantastic Beast'],\n",
       " ['Intern', 'Tomb Rider', 'Jumanji'],\n",
       " ['Intern', 'Spiderman 3', 'Moana'],\n",
       " ['Intern', 'Ninja Turtles', 'The Revenant'],\n",
       " ['Intern', 'Tomb Rider', 'Spiderman 3'],\n",
       " ['Intern', 'Tomb Rider', 'The Revenant'],\n",
       " ['Intern', 'Tomb Rider', 'World War Z'],\n",
       " ['Jumanji', 'Tomb Rider', 'Iron Man'],\n",
       " ['Jumanji', 'Kung Fu Panda', 'Ninja Turtles'],\n",
       " ['Jumanji', 'Kung Fu Panda', 'Tomb Rider'],\n",
       " ['Jumanji', 'Spiderman 3', 'Moana'],\n",
       " ['Jumanji', 'Tomb Rider', 'The Revenant'],\n",
       " ['Spiderman 3', 'Tomb Rider', 'Moana'],\n",
       " ['Thor', 'Ninja Turtles', 'Spiderman 3'],\n",
       " ['Tomb Rider', 'Spotlight', 'Spiderman 3'],\n",
       " ['Intern', 'Tomb Rider', 'Ninja Turtles', 'Moana']]"
      ]
     },
     "execution_count": 135,
     "metadata": {},
     "output_type": "execute_result"
    }
   ],
   "source": [
    "listRules = [list(valores_apriori[i][0]) for i in range(0,len(valores_apriori))]\n",
    "listRules"
   ]
  },
  {
   "cell_type": "code",
   "execution_count": 136,
   "metadata": {},
   "outputs": [],
   "source": [
    "list_rules =  []\n",
    "\n",
    "#for r in range(0, len(valores_apriori)):\n",
    "#    listRules2.append(valores_apriori[r][0])"
   ]
  },
  {
   "cell_type": "code",
   "execution_count": 137,
   "metadata": {},
   "outputs": [],
   "source": [
    "#listRules2"
   ]
  },
  {
   "cell_type": "code",
   "execution_count": 138,
   "metadata": {},
   "outputs": [
    {
     "data": {
      "text/plain": [
       "RelationRecord(items=frozenset({'London Has Fallen', 'Captain America'}), support=0.004532728969470737, ordered_statistics=[OrderedStatistic(items_base=frozenset({'London Has Fallen'}), items_add=frozenset({'Captain America'}), confidence=0.29059829059829057, lift=4.84395061728395)])"
      ]
     },
     "execution_count": 138,
     "metadata": {},
     "output_type": "execute_result"
    }
   ],
   "source": [
    "valores_apriori[0]"
   ]
  },
  {
   "cell_type": "code",
   "execution_count": 139,
   "metadata": {},
   "outputs": [],
   "source": [
    "search = 'Spiderman 3'"
   ]
  },
  {
   "cell_type": "code",
   "execution_count": 140,
   "metadata": {},
   "outputs": [
    {
     "data": {
      "text/plain": [
       "[['The Spy Who Dumped Me', 'Spiderman 3'],\n",
       " ['Intern', 'Spiderman 3', 'Moana'],\n",
       " ['Intern', 'Tomb Rider', 'Spiderman 3'],\n",
       " ['Jumanji', 'Spiderman 3', 'Moana'],\n",
       " ['Spiderman 3', 'Tomb Rider', 'Moana'],\n",
       " ['Thor', 'Ninja Turtles', 'Spiderman 3'],\n",
       " ['Tomb Rider', 'Spotlight', 'Spiderman 3']]"
      ]
     },
     "execution_count": 140,
     "metadata": {},
     "output_type": "execute_result"
    }
   ],
   "source": [
    "buscador  = []\n",
    "\n",
    "for valores in listRules:\n",
    "    for valores2 in valores:\n",
    "        if valores2 == search:\n",
    "            buscador.append(valores)\n",
    "\n",
    "buscador\n",
    "    "
   ]
  },
  {
   "cell_type": "code",
   "execution_count": null,
   "metadata": {},
   "outputs": [],
   "source": []
  },
  {
   "cell_type": "code",
   "execution_count": null,
   "metadata": {},
   "outputs": [],
   "source": []
  },
  {
   "cell_type": "code",
   "execution_count": null,
   "metadata": {},
   "outputs": [],
   "source": []
  },
  {
   "cell_type": "code",
   "execution_count": null,
   "metadata": {},
   "outputs": [],
   "source": []
  },
  {
   "cell_type": "code",
   "execution_count": null,
   "metadata": {},
   "outputs": [],
   "source": []
  },
  {
   "cell_type": "code",
   "execution_count": null,
   "metadata": {},
   "outputs": [],
   "source": []
  },
  {
   "cell_type": "code",
   "execution_count": 153,
   "metadata": {},
   "outputs": [],
   "source": [
    "#unique_data = [x for x in set(tuple(x) for x in buscador)]\n",
    "\n",
    "def buscador_l(search):\n",
    "    buscador  = []\n",
    "    prueba = []\n",
    "\n",
    "    for valores in listRules:\n",
    "        for valores2 in valores:\n",
    "            if valores2 == search:\n",
    "                buscador.append(valores)\n",
    "                \n",
    "    for l in buscador:\n",
    "        for x in l:\n",
    "            prueba.append(x)\n",
    "            resultado = set(prueba)\n",
    "    return(resultado)"
   ]
  },
  {
   "cell_type": "code",
   "execution_count": 154,
   "metadata": {},
   "outputs": [
    {
     "data": {
      "text/plain": [
       "{'Intern',\n",
       " 'Jumanji',\n",
       " 'Moana',\n",
       " 'Ninja Turtles',\n",
       " 'Spiderman 3',\n",
       " 'Spotlight',\n",
       " 'The Spy Who Dumped Me',\n",
       " 'Thor',\n",
       " 'Tomb Rider'}"
      ]
     },
     "execution_count": 154,
     "metadata": {},
     "output_type": "execute_result"
    }
   ],
   "source": [
    "buscador_l('Spiderman 3')"
   ]
  },
  {
   "cell_type": "code",
   "execution_count": 142,
   "metadata": {},
   "outputs": [],
   "source": [
    "result = set(x for l in buscador for x in l)"
   ]
  },
  {
   "cell_type": "code",
   "execution_count": 166,
   "metadata": {},
   "outputs": [
    {
     "data": {
      "text/plain": [
       "{'Intern',\n",
       " 'Jumanji',\n",
       " 'Moana',\n",
       " 'Ninja Turtles',\n",
       " 'Spiderman 3',\n",
       " 'Spotlight',\n",
       " 'The Spy Who Dumped Me',\n",
       " 'Thor',\n",
       " 'Tomb Rider'}"
      ]
     },
     "execution_count": 166,
     "metadata": {},
     "output_type": "execute_result"
    }
   ],
   "source": [
    "result"
   ]
  },
  {
   "cell_type": "raw",
   "metadata": {},
   "source": [
    "prueba = []\n",
    "for l in buscador:\n",
    "    for x in l:\n",
    "        prueba.append(x)\n",
    "prueba = set(prueba)\n"
   ]
  },
  {
   "cell_type": "raw",
   "metadata": {},
   "source": [
    "def busca(search):\n",
    "    prueba = []\n",
    "    #search = str(search)\n",
    "    for l in buscador:\n",
    "        for x in l:\n",
    "            prueba.append(x)\n",
    "    resultado = set(prueba)\n",
    "    return(resultado)\n",
    "    \n",
    "            \n",
    "    "
   ]
  },
  {
   "cell_type": "markdown",
   "metadata": {},
   "source": [
    "busca('Spiderman 3')"
   ]
  },
  {
   "cell_type": "raw",
   "metadata": {},
   "source": [
    "set(prueba)"
   ]
  },
  {
   "cell_type": "markdown",
   "metadata": {},
   "source": [
    "def busca(search):\n",
    "    for hay in listRules:\n",
    "        if search in hay:\n",
    "            return hay"
   ]
  },
  {
   "cell_type": "code",
   "execution_count": 148,
   "metadata": {},
   "outputs": [],
   "source": [
    "#busca(search)"
   ]
  },
  {
   "cell_type": "code",
   "execution_count": 174,
   "metadata": {},
   "outputs": [
    {
     "data": {
      "text/plain": [
       "{'Intern',\n",
       " 'Jumanji',\n",
       " 'Moana',\n",
       " 'Ninja Turtles',\n",
       " 'Spotlight',\n",
       " 'The Spy Who Dumped Me',\n",
       " 'Thor',\n",
       " 'Tomb Rider'}"
      ]
     },
     "execution_count": 174,
     "metadata": {},
     "output_type": "execute_result"
    }
   ],
   "source": [
    "val  = busca(search)\n",
    "val.remove(search)\n",
    "val"
   ]
  },
  {
   "cell_type": "code",
   "execution_count": 191,
   "metadata": {},
   "outputs": [
    {
     "name": "stdout",
     "output_type": "stream",
     "text": [
      "Rule: London Has Fallen -> Captain America\n",
      "Support: 0.004532728969470737\n",
      "Confidence: 0.29059829059829057\n",
      "Lift: 4.84395061728395\n",
      "\n",
      "\n",
      "Rule: Green Lantern -> Red Sparrow\n",
      "Support: 0.005732568990801226\n",
      "Confidence: 0.3006993006993007\n",
      "Lift: 3.790832696715049\n",
      "\n",
      "\n",
      "Rule: Green Lantern -> Star Wars\n",
      "Support: 0.005865884548726837\n",
      "Confidence: 0.3728813559322034\n",
      "Lift: 4.700811850163794\n",
      "\n",
      "\n",
      "Rule: Jumanji -> Kung Fu Panda\n",
      "Support: 0.015997866951073192\n",
      "Confidence: 0.3234501347708895\n",
      "Lift: 3.2919938411349285\n",
      "\n",
      "\n",
      "Rule: Jumanji -> Wonder Woman\n",
      "Support: 0.005332622317024397\n",
      "Confidence: 0.3773584905660377\n",
      "Lift: 3.840659481324083\n",
      "\n",
      "\n",
      "Rule: The Spy Who Dumped Me -> Spiderman 3\n",
      "Support: 0.007998933475536596\n",
      "Confidence: 0.2714932126696833\n",
      "Lift: 4.122410097642296\n",
      "\n",
      "\n",
      "Rule: Star Wars -> The Revenant\n",
      "Support: 0.005065991201173177\n",
      "Confidence: 0.3220338983050847\n",
      "Lift: 4.506672147735896\n",
      "\n",
      "\n",
      "Rule: Coco -> Intern\n",
      "Support: 0.005332622317024397\n",
      "Confidence: 0.23255813953488375\n",
      "Lift: 3.2545123221103784\n",
      "\n",
      "\n",
      "Rule: Jumanji -> Tomb Rider\n",
      "Support: 0.004799360085321957\n",
      "Confidence: 0.5714285714285714\n",
      "Lift: 3.2819951870487856\n",
      "\n",
      "\n",
      "Rule: Intern -> Tomb Rider\n",
      "Support: 0.008665511265164644\n",
      "Confidence: 0.31100478468899523\n",
      "Lift: 3.165328208890303\n",
      "\n",
      "\n",
      "Rule: Intern -> Spiderman 3\n",
      "Support: 0.004799360085321957\n",
      "Confidence: 0.20338983050847456\n",
      "Lift: 3.088314005352364\n",
      "\n",
      "\n",
      "Rule: Intern -> Ninja Turtles\n",
      "Support: 0.007199040127982935\n",
      "Confidence: 0.30508474576271183\n",
      "Lift: 3.200616332819722\n",
      "\n",
      "\n",
      "Rule: Intern -> Tomb Rider\n",
      "Support: 0.005732568990801226\n",
      "Confidence: 0.20574162679425836\n",
      "Lift: 3.1240241752707125\n",
      "\n",
      "\n",
      "Rule: Intern -> Tomb Rider\n",
      "Support: 0.005999200106652446\n",
      "Confidence: 0.21531100478468898\n",
      "Lift: 3.0131489680782684\n",
      "\n",
      "\n",
      "Rule: Intern -> Tomb Rider\n",
      "Support: 0.006665777896280496\n",
      "Confidence: 0.23923444976076558\n",
      "Lift: 3.4980460188216425\n",
      "\n",
      "\n",
      "Rule: Jumanji -> Tomb Rider\n",
      "Support: 0.005332622317024397\n",
      "Confidence: 0.3225806451612903\n",
      "Lift: 3.283144395325426\n",
      "\n",
      "\n",
      "Rule: Jumanji -> Kung Fu Panda\n",
      "Support: 0.006665777896280496\n",
      "Confidence: 0.39062500000000006\n",
      "Lift: 3.975682666214383\n",
      "\n",
      "\n",
      "Rule: Jumanji -> Kung Fu Panda\n",
      "Support: 0.006399146780429276\n",
      "Confidence: 0.3934426229508197\n",
      "Lift: 4.004359721511667\n",
      "\n",
      "\n",
      "Rule: Jumanji -> Spiderman 3\n",
      "Support: 0.004932675643247567\n",
      "Confidence: 0.22424242424242427\n",
      "Lift: 3.40494417862839\n",
      "\n",
      "\n",
      "Rule: Jumanji -> Tomb Rider\n",
      "Support: 0.005999200106652446\n",
      "Confidence: 0.5232558139534884\n",
      "Lift: 3.005315360233627\n",
      "\n",
      "\n",
      "Rule: Spiderman 3 -> Tomb Rider\n",
      "Support: 0.007199040127982935\n",
      "Confidence: 0.20300751879699247\n",
      "Lift: 3.0825089038385434\n",
      "\n",
      "\n",
      "Rule: Thor -> Ninja Turtles\n",
      "Support: 0.005199306759098787\n",
      "Confidence: 0.22543352601156072\n",
      "Lift: 3.4230301186492245\n",
      "\n",
      "\n",
      "Rule: Tomb Rider -> Spotlight\n",
      "Support: 0.005065991201173177\n",
      "Confidence: 0.20105820105820105\n",
      "Lift: 3.0529100529100526\n",
      "\n",
      "\n",
      "Rule: Intern -> Tomb Rider\n",
      "Support: 0.004532728969470737\n",
      "Confidence: 0.28813559322033894\n",
      "Lift: 3.0228043143297376\n",
      "\n",
      "\n"
     ]
    }
   ],
   "source": [
    "lista_final = []\n",
    "\n",
    "for item in valores_apriori:\n",
    "    pair = item[0] \n",
    "    items = [x for x in pair]\n",
    "    print(\"Rule: \" + items[0] + \" -> \" + items[1])\n",
    "    z = items[0]\n",
    "    x = items[1]\n",
    "\n",
    "    #second index of the inner list\n",
    "    print(\"Support: \" + str(item[1]))\n",
    "\n",
    "    #third index of the list located at 0th\n",
    "    #of the third index of the inner list\n",
    "    a = str(item[2][0][2])\n",
    "    b = str(item[2][0][3])\n",
    "\n",
    "    print(\"Confidence: \" +  a)\n",
    "    print(\"Lift: \" +  b)\n",
    "    print(\"\\n\")\n",
    "    lista_final.append(z)\n",
    "   \n",
    "  \n",
    "   "
   ]
  },
  {
   "cell_type": "code",
   "execution_count": null,
   "metadata": {},
   "outputs": [],
   "source": []
  },
  {
   "cell_type": "code",
   "execution_count": null,
   "metadata": {},
   "outputs": [],
   "source": []
  },
  {
   "cell_type": "code",
   "execution_count": null,
   "metadata": {},
   "outputs": [],
   "source": []
  },
  {
   "cell_type": "code",
   "execution_count": null,
   "metadata": {},
   "outputs": [],
   "source": []
  }
 ],
 "metadata": {
  "kernelspec": {
   "display_name": "Python 3",
   "language": "python",
   "name": "python3"
  },
  "language_info": {
   "codemirror_mode": {
    "name": "ipython",
    "version": 3
   },
   "file_extension": ".py",
   "mimetype": "text/x-python",
   "name": "python",
   "nbconvert_exporter": "python",
   "pygments_lexer": "ipython3",
   "version": "3.7.3"
  }
 },
 "nbformat": 4,
 "nbformat_minor": 4
}
